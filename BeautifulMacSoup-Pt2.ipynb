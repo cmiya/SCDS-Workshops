{
 "cells": [
  {
   "cell_type": "markdown",
   "id": "b6c5c466-a6bd-4045-9cd8-3102845e94cf",
   "metadata": {},
   "source": [
    "# <font color='grey'>Web Scraping with Python and Beautiful Soup Pt II:<br> Scraping with APIs</font>\n",
    "\n",
    "## <font color='orange'>Workshop Description</font>\n",
    "\n",
    "This workshop will introduce students to techniques for scraping information from the web using Python’s Beautiful Soup (bs4) toolkit. We will begin with a basic overview of the “anatomy” or structure of a webpage. Students will then learn how to write a script for extracting textual data from websites like Reddit and organizing it into spreadsheets. The second half of the workshop will explore how to use Python Pandas library to clean and analyze your data. In addition to technical skills, participants are encouraged to engage with critical questions like: What can we, as researchers, learn from publicly available data? As well as, what are the potential ethical and legal complexities around data harvesting, and how do we do it responsibly?\n",
    "\n",
    "By the end of the workshop, students will know:\n",
    "\n",
    "- Scrape HTML content from a webpage\n",
    "- Clean and analyze data\n",
    "\n",
    "### Requirements:\n",
    "- Install Postman for Desktop: [Installation Guide](https://www.postman.com/downloads/)\n",
    "\n",
    "### Resources:\n",
    "- [Reddit API Documentation](https://www.reddit.com/dev/api/)\n",
    "- [Oath2 Quickstart Guide](https://github.com/reddit-archive/reddit/wiki/OAuth2-Quick-Start-Example)\n",
    "- Andy's Tech Tutorials' [Reddit API Tutorial](https://www.youtube.com/watch?v=x9boO9x3TDA) on YouTube"
   ]
  },
  {
   "cell_type": "markdown",
   "id": "4d4326dc-77ba-4d35-bcb7-16e0ed62dd8a",
   "metadata": {},
   "source": [
    "## <font color='orange'>Recap: What are APis?</font>\n",
    "- APIs restrict restrict number of calls (e.g. Facebook restricts to \n",
    "- In the past, social media platforms offered API services for free...\n",
    "- ... but recently, [Twitter/X](https://twitter.com/XDevelopers/status/1621026986784337922) and [Reddit](https://www.reddit.com/r/reddit/comments/145bram/addressing_the_community_about_changes_to_our_api/) announced they are moving to paid models that restrict access.\n",
    "\n",
    "## <font color='orange'> Reddit's API Restrictions</font>\n",
    "### Rate Limits\n",
    "- Free-tier access is limited to 100 calls (requests) per minute.\n",
    "### Data Privacy Rules\n",
    "- In response to the revelation that OpenAI's models were trained in part on Reddit data, Reddit recently updated its [API Terms of Service](https://www.redditinc.com/policies/data-api-terms), which explicitly declares that Reddit users are the *owners* of their content, and bans the use of user content (like comments) for training AI Models.\n",
    "- Reddit's new [Data Protection Rules](https://www.redditinc.com/policies/developer-dpa) also came into effect on March 4.\n",
    "\n",
    "## <font color='orange'> What does this mean for researchers? </font>\n",
    "- Researchers can use Reddit APIs (free of charge) within the 100-call per minute limit rate; \n",
    "- However, researchers cannot redistribute the actual datasets or \"derivative products\" (like AI models) derived from that data.\n",
    "- Researchers are also asked to send copies of research papers to Reddit prior to publication.\n",
    "- See Reddit documentation on [Developer Services](https://support.reddithelp.com/hc/en-us/articles/14945211791892-Reddit-Developer-Services) for more details."
   ]
  },
  {
   "cell_type": "code",
   "execution_count": null,
   "id": "f8799982-d27d-498a-92d5-03d31418f971",
   "metadata": {},
   "outputs": [],
   "source": []
  }
 ],
 "metadata": {
  "kernelspec": {
   "display_name": "Python 3 (ipykernel)",
   "language": "python",
   "name": "python3"
  },
  "language_info": {
   "codemirror_mode": {
    "name": "ipython",
    "version": 3
   },
   "file_extension": ".py",
   "mimetype": "text/x-python",
   "name": "python",
   "nbconvert_exporter": "python",
   "pygments_lexer": "ipython3",
   "version": "3.10.13"
  }
 },
 "nbformat": 4,
 "nbformat_minor": 5
}
